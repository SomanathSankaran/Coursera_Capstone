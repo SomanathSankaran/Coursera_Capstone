{
  "nbformat": 4,
  "nbformat_minor": 0,
  "metadata": {
    "colab": {
      "name": "IBM_ML_Capstone",
      "provenance": [],
      "collapsed_sections": [],
      "toc_visible": true,
      "authorship_tag": "ABX9TyNtIGUABEO8xsKwVAHOzgVG"
    },
    "kernelspec": {
      "name": "python3",
      "display_name": "Python 3"
    }
  },
  "cells": [
    {
      "cell_type": "code",
      "metadata": {
        "id": "HJVHzkisK7Al",
        "colab_type": "code",
        "colab": {
          "base_uri": "https://localhost:8080/",
          "height": 89
        },
        "outputId": "bc742b07-f5cd-436c-a889-0dbb1e82554c"
      },
      "source": [
        "import numpy as np # library to handle data in a vectorized manner\n",
        "\n",
        "import pandas as pd # library for data analsysis\n",
        "pd.set_option('display.max_columns', None)\n",
        "pd.set_option('display.max_rows', None)\n",
        "\n",
        "import json # library to handle JSON files\n",
        "\n",
        "!pip install geopy\n",
        "# uncomment this line if you haven't completed the Foursquare API lab\n",
        "from geopy.geocoders import Nominatim # convert an address into latitude and longitude values\n",
        "\n",
        "import requests # library to handle requests\n",
        "from pandas.io.json import json_normalize # tranform JSON file into a pandas dataframe\n",
        "\n",
        "# Matplotlib and associated plotting modules\n",
        "import matplotlib.cm as cm\n",
        "import matplotlib.colors as colors\n",
        "\n",
        "# import k-means from clustering stage\n",
        "from sklearn.cluster import KMeans\n",
        "\n",
        "#!conda install -c conda-forge folium=0.5.0 --yes # uncomment this line if you haven't completed the Foursquare API lab\n",
        "import folium # map rendering library\n",
        "\n",
        "print('Libraries imported.')"
      ],
      "execution_count": 23,
      "outputs": [
        {
          "output_type": "stream",
          "text": [
            "Requirement already satisfied: geopy in /usr/local/lib/python3.6/dist-packages (1.17.0)\n",
            "Requirement already satisfied: geographiclib<2,>=1.49 in /usr/local/lib/python3.6/dist-packages (from geopy) (1.50)\n",
            "Libraries imported.\n"
          ],
          "name": "stdout"
        }
      ]
    },
    {
      "cell_type": "code",
      "metadata": {
        "id": "u28ke6NnmWWH",
        "colab_type": "code",
        "colab": {}
      },
      "source": [
        "import geopy"
      ],
      "execution_count": 0,
      "outputs": []
    },
    {
      "cell_type": "code",
      "metadata": {
        "id": "8sv_fjylmaEk",
        "colab_type": "code",
        "colab": {}
      },
      "source": [
        "data=requests.get(\"https://en.wikipedia.org/wiki/List_of_neighbourhoods_of_Chennai\")"
      ],
      "execution_count": 0,
      "outputs": []
    },
    {
      "cell_type": "code",
      "metadata": {
        "id": "OhJNfwDLqMSI",
        "colab_type": "code",
        "colab": {}
      },
      "source": [
        "df=pd.read_html('https://en.wikipedia.org/wiki/List_of_neighbourhoods_of_Chennai')"
      ],
      "execution_count": 0,
      "outputs": []
    },
    {
      "cell_type": "code",
      "metadata": {
        "id": "R6XyG17gqNTN",
        "colab_type": "code",
        "colab": {}
      },
      "source": [
        "df_suburbs_chennai=df[1]"
      ],
      "execution_count": 0,
      "outputs": []
    },
    {
      "cell_type": "code",
      "metadata": {
        "id": "3D7ZA_mnqfcc",
        "colab_type": "code",
        "colab": {}
      },
      "source": [
        "suburbs_list=df_suburbs_chennai.iloc[0][0].split(\" \")"
      ],
      "execution_count": 0,
      "outputs": []
    },
    {
      "cell_type": "code",
      "metadata": {
        "id": "IiBespc7rLjT",
        "colab_type": "code",
        "colab": {}
      },
      "source": [
        "chennai_suburbs_df=pd.DataFrame(suburbs_list,columns=['cities'])"
      ],
      "execution_count": 0,
      "outputs": []
    },
    {
      "cell_type": "code",
      "metadata": {
        "id": "Q-uXnBFcsOym",
        "colab_type": "code",
        "colab": {}
      },
      "source": [
        "import time \n",
        "geolocator = Nominatim(user_agent=\"IBM project\")\n",
        "def lat_long_getter(city):\n",
        "  time.sleep(1)\n",
        "  location = geolocator.geocode(city)\n",
        "  if location is not None:\n",
        "    return (location.latitude, location.longitude)"
      ],
      "execution_count": 0,
      "outputs": []
    },
    {
      "cell_type": "code",
      "metadata": {
        "id": "wbJiKuF9uODR",
        "colab_type": "code",
        "colab": {}
      },
      "source": [
        "#checking lat long\n",
        "lat_long_list=[lat_long_getter(x) for x in suburbs_list]"
      ],
      "execution_count": 0,
      "outputs": []
    },
    {
      "cell_type": "code",
      "metadata": {
        "id": "p-ZIeyiFuTNU",
        "colab_type": "code",
        "colab": {}
      },
      "source": [
        "chennai_suburbs_df['cities'].apply(lat_long_getter)"
      ],
      "execution_count": 0,
      "outputs": []
    },
    {
      "cell_type": "code",
      "metadata": {
        "id": "8PlMrJgYutlQ",
        "colab_type": "code",
        "colab": {
          "base_uri": "https://localhost:8080/",
          "height": 34
        },
        "outputId": "1ea7b588-fea8-47dd-dfd5-4c0b210240a0"
      },
      "source": [
        "len(lat_long_list)"
      ],
      "execution_count": 79,
      "outputs": [
        {
          "output_type": "execute_result",
          "data": {
            "text/plain": [
              "201"
            ]
          },
          "metadata": {
            "tags": []
          },
          "execution_count": 79
        }
      ]
    },
    {
      "cell_type": "code",
      "metadata": {
        "colab_type": "code",
        "id": "WQ4yrnUKwAU8",
        "colab": {}
      },
      "source": [
        "chennai_cities_df=pd.concat([chennai_suburbs_df,pd.DataFrame(lat_long_list,columns=['lat','long'])],axis=1)"
      ],
      "execution_count": 0,
      "outputs": []
    },
    {
      "cell_type": "code",
      "metadata": {
        "id": "CWgvHgzX32Xx",
        "colab_type": "code",
        "colab": {
          "base_uri": "https://localhost:8080/",
          "height": 206
        },
        "outputId": "0bc30b4e-2ce5-49e4-f570-70170b7aed7b"
      },
      "source": [
        "chennai_cities_df.head(5)"
      ],
      "execution_count": 104,
      "outputs": [
        {
          "output_type": "execute_result",
          "data": {
            "text/html": [
              "<div>\n",
              "<style scoped>\n",
              "    .dataframe tbody tr th:only-of-type {\n",
              "        vertical-align: middle;\n",
              "    }\n",
              "\n",
              "    .dataframe tbody tr th {\n",
              "        vertical-align: top;\n",
              "    }\n",
              "\n",
              "    .dataframe thead th {\n",
              "        text-align: right;\n",
              "    }\n",
              "</style>\n",
              "<table border=\"1\" class=\"dataframe\">\n",
              "  <thead>\n",
              "    <tr style=\"text-align: right;\">\n",
              "      <th></th>\n",
              "      <th>cities</th>\n",
              "      <th>lat</th>\n",
              "      <th>long</th>\n",
              "    </tr>\n",
              "  </thead>\n",
              "  <tbody>\n",
              "    <tr>\n",
              "      <th>0</th>\n",
              "      <td>Adyar</td>\n",
              "      <td>13.006450</td>\n",
              "      <td>80.257779</td>\n",
              "    </tr>\n",
              "    <tr>\n",
              "      <th>1</th>\n",
              "      <td>Adambakkam</td>\n",
              "      <td>12.982221</td>\n",
              "      <td>80.209121</td>\n",
              "    </tr>\n",
              "    <tr>\n",
              "      <th>2</th>\n",
              "      <td>Alapakkam</td>\n",
              "      <td>13.049901</td>\n",
              "      <td>80.165435</td>\n",
              "    </tr>\n",
              "    <tr>\n",
              "      <th>3</th>\n",
              "      <td>Alandur</td>\n",
              "      <td>13.002822</td>\n",
              "      <td>80.171919</td>\n",
              "    </tr>\n",
              "    <tr>\n",
              "      <th>4</th>\n",
              "      <td>Alwarpet</td>\n",
              "      <td>13.033860</td>\n",
              "      <td>80.254549</td>\n",
              "    </tr>\n",
              "  </tbody>\n",
              "</table>\n",
              "</div>"
            ],
            "text/plain": [
              "       cities        lat       long\n",
              "0       Adyar  13.006450  80.257779\n",
              "1  Adambakkam  12.982221  80.209121\n",
              "2   Alapakkam  13.049901  80.165435\n",
              "3     Alandur  13.002822  80.171919\n",
              "4    Alwarpet  13.033860  80.254549"
            ]
          },
          "metadata": {
            "tags": []
          },
          "execution_count": 104
        }
      ]
    },
    {
      "cell_type": "code",
      "metadata": {
        "id": "MUHX6zEC3N5i",
        "colab_type": "code",
        "colab": {
          "base_uri": "https://localhost:8080/",
          "height": 34
        },
        "outputId": "3a6c5b8e-eee8-443f-ba6f-ab198a26fddc"
      },
      "source": [
        "chennai_cities_df.shape"
      ],
      "execution_count": 100,
      "outputs": [
        {
          "output_type": "execute_result",
          "data": {
            "text/plain": [
              "(201, 3)"
            ]
          },
          "metadata": {
            "tags": []
          },
          "execution_count": 100
        }
      ]
    },
    {
      "cell_type": "code",
      "metadata": {
        "id": "DlxEugPh0xCH",
        "colab_type": "code",
        "colab": {}
      },
      "source": [
        "chennai_cities_df.dropna(how='any',inplace=True)"
      ],
      "execution_count": 0,
      "outputs": []
    },
    {
      "cell_type": "code",
      "metadata": {
        "id": "ovwJauGc3TN7",
        "colab_type": "code",
        "colab": {
          "base_uri": "https://localhost:8080/",
          "height": 34
        },
        "outputId": "6d4eee53-d210-45d7-c69d-02b7bf1c6464"
      },
      "source": [
        "chennai_cities_df.shape"
      ],
      "execution_count": 103,
      "outputs": [
        {
          "output_type": "execute_result",
          "data": {
            "text/plain": [
              "(188, 3)"
            ]
          },
          "metadata": {
            "tags": []
          },
          "execution_count": 103
        }
      ]
    },
    {
      "cell_type": "code",
      "metadata": {
        "id": "1nNPGv9t1mEI",
        "colab_type": "code",
        "colab": {
          "base_uri": "https://localhost:8080/",
          "height": 333
        },
        "outputId": "74d326e7-b0dd-4831-c2f5-d07b56ddc092"
      },
      "source": [
        "chennai_cities_df.hist(bins=3)"
      ],
      "execution_count": 108,
      "outputs": [
        {
          "output_type": "execute_result",
          "data": {
            "text/plain": [
              "array([[<matplotlib.axes._subplots.AxesSubplot object at 0x7f82ed8c07b8>,\n",
              "        <matplotlib.axes._subplots.AxesSubplot object at 0x7f82ed8dc9b0>]],\n",
              "      dtype=object)"
            ]
          },
          "metadata": {
            "tags": []
          },
          "execution_count": 108
        },
        {
          "output_type": "display_data",
          "data": {
            "image/png": "[encoded data removed]",
            "text/plain": [
              "<Figure size 432x288 with 2 Axes>"
            ]
          },
          "metadata": {
            "tags": []
          }
        }
      ]
    },
    {
      "cell_type": "code",
      "metadata": {
        "id": "BEKSdz5u2R0_",
        "colab_type": "code",
        "colab": {
          "base_uri": "https://localhost:8080/",
          "height": 300
        },
        "outputId": "23b4bd4c-dc5b-40e8-de24-6cd36be144e6"
      },
      "source": [
        "chennai_cities_df.describe()"
      ],
      "execution_count": 110,
      "outputs": [
        {
          "output_type": "execute_result",
          "data": {
            "text/html": [
              "<div>\n",
              "<style scoped>\n",
              "    .dataframe tbody tr th:only-of-type {\n",
              "        vertical-align: middle;\n",
              "    }\n",
              "\n",
              "    .dataframe tbody tr th {\n",
              "        vertical-align: top;\n",
              "    }\n",
              "\n",
              "    .dataframe thead th {\n",
              "        text-align: right;\n",
              "    }\n",
              "</style>\n",
              "<table border=\"1\" class=\"dataframe\">\n",
              "  <thead>\n",
              "    <tr style=\"text-align: right;\">\n",
              "      <th></th>\n",
              "      <th>lat</th>\n",
              "      <th>long</th>\n",
              "    </tr>\n",
              "  </thead>\n",
              "  <tbody>\n",
              "    <tr>\n",
              "      <th>count</th>\n",
              "      <td>188.000000</td>\n",
              "      <td>188.000000</td>\n",
              "    </tr>\n",
              "    <tr>\n",
              "      <th>mean</th>\n",
              "      <td>18.090299</td>\n",
              "      <td>64.710376</td>\n",
              "    </tr>\n",
              "    <tr>\n",
              "      <th>std</th>\n",
              "      <td>12.749641</td>\n",
              "      <td>38.823500</td>\n",
              "    </tr>\n",
              "    <tr>\n",
              "      <th>min</th>\n",
              "      <td>-33.922955</td>\n",
              "      <td>-96.886392</td>\n",
              "    </tr>\n",
              "    <tr>\n",
              "      <th>25%</th>\n",
              "      <td>12.977265</td>\n",
              "      <td>77.843412</td>\n",
              "    </tr>\n",
              "    <tr>\n",
              "      <th>50%</th>\n",
              "      <td>13.072082</td>\n",
              "      <td>80.170070</td>\n",
              "    </tr>\n",
              "    <tr>\n",
              "      <th>75%</th>\n",
              "      <td>13.343911</td>\n",
              "      <td>80.235861</td>\n",
              "    </tr>\n",
              "    <tr>\n",
              "      <th>max</th>\n",
              "      <td>64.984182</td>\n",
              "      <td>139.638865</td>\n",
              "    </tr>\n",
              "  </tbody>\n",
              "</table>\n",
              "</div>"
            ],
            "text/plain": [
              "              lat        long\n",
              "count  188.000000  188.000000\n",
              "mean    18.090299   64.710376\n",
              "std     12.749641   38.823500\n",
              "min    -33.922955  -96.886392\n",
              "25%     12.977265   77.843412\n",
              "50%     13.072082   80.170070\n",
              "75%     13.343911   80.235861\n",
              "max     64.984182  139.638865"
            ]
          },
          "metadata": {
            "tags": []
          },
          "execution_count": 110
        }
      ]
    },
    {
      "cell_type": "code",
      "metadata": {
        "id": "EmqhlHSt6B6A",
        "colab_type": "code",
        "colab": {
          "base_uri": "https://localhost:8080/",
          "height": 34
        },
        "outputId": "de67102a-36bd-42d2-8161-6b65e74021f2"
      },
      "source": [
        "chennai_cities_df[(chennai_cities_df['lat'].between(12.977265,13.343911)) &\n",
        "                  (chennai_cities_df['long'].between(77.843412,80.235861))].shape"
      ],
      "execution_count": 112,
      "outputs": [
        {
          "output_type": "execute_result",
          "data": {
            "text/plain": [
              "(58, 3)"
            ]
          },
          "metadata": {
            "tags": []
          },
          "execution_count": 112
        }
      ]
    },
    {
      "cell_type": "code",
      "metadata": {
        "id": "ixmCms2T8r25",
        "colab_type": "code",
        "colab": {}
      },
      "source": [
        "Q1 = chennai_cities_df.quantile(0.25)\n",
        "Q3 = chennai_cities_df.quantile(0.75)\n",
        "IQR = Q3 - Q1\n",
        "\n",
        "outlier_removed_df = chennai_cities_df[~((chennai_cities_df < (Q1 - 1.5 * IQR)) |(chennai_cities_df > (Q3 + 1.5 * IQR))).any(axis=1)]\n"
      ],
      "execution_count": 0,
      "outputs": []
    },
    {
      "cell_type": "code",
      "metadata": {
        "id": "f62bn4zV9F2O",
        "colab_type": "code",
        "colab": {
          "base_uri": "https://localhost:8080/",
          "height": 34
        },
        "outputId": "aa094a11-6209-4315-e19e-784ed9063753"
      },
      "source": [
        "outlier_removed_df.shape"
      ],
      "execution_count": 119,
      "outputs": [
        {
          "output_type": "execute_result",
          "data": {
            "text/plain": [
              "(136, 3)"
            ]
          },
          "metadata": {
            "tags": []
          },
          "execution_count": 119
        }
      ]
    },
    {
      "cell_type": "code",
      "metadata": {
        "id": "-rCPMT-f9cJu",
        "colab_type": "code",
        "colab": {
          "base_uri": "https://localhost:8080/",
          "height": 333
        },
        "outputId": "985df5ef-b89d-4c10-f809-e91fa973bf5b"
      },
      "source": [
        "outlier_removed_df.hist(bins=2\n",
        "                        )"
      ],
      "execution_count": 122,
      "outputs": [
        {
          "output_type": "execute_result",
          "data": {
            "text/plain": [
              "array([[<matplotlib.axes._subplots.AxesSubplot object at 0x7f82ee106320>,\n",
              "        <matplotlib.axes._subplots.AxesSubplot object at 0x7f82ec443dd8>]],\n",
              "      dtype=object)"
            ]
          },
          "metadata": {
            "tags": []
          },
          "execution_count": 122
        },
        {
          "output_type": "display_data",
          "data": {
            "image/png": "[encoded data removed]",
            "text/plain": [
              "<Figure size 432x288 with 2 Axes>"
            ]
          },
          "metadata": {
            "tags": []
          }
        }
      ]
    },
    {
      "cell_type": "code",
      "metadata": {
        "id": "j5yOVOwiABOK",
        "colab_type": "code",
        "colab": {
          "base_uri": "https://localhost:8080/",
          "height": 34
        },
        "outputId": "cc120d55-deb7-42f6-fe4b-30d639d703e9"
      },
      "source": [
        "outlier_removed_df.columns"
      ],
      "execution_count": 124,
      "outputs": [
        {
          "output_type": "execute_result",
          "data": {
            "text/plain": [
              "Index(['cities', 'lat', 'long'], dtype='object')"
            ]
          },
          "metadata": {
            "tags": []
          },
          "execution_count": 124
        }
      ]
    },
    {
      "cell_type": "code",
      "metadata": {
        "id": "H7CoeIbk9lRT",
        "colab_type": "code",
        "colab": {}
      },
      "source": [
        "radius = 2000\n",
        "LIMIT = 100\n",
        "CLIENT_ID=\"OEKKGI1XLJWV3KHMVSN4CRIJD0BJ5SSA2J5WEMMKTDOTRUUR\"\n",
        "CLIENT_SECRET=\"Q5JTR2RYCYT4OE1CVFR1REBLKFKHRK2ZOYTFGHDALXNNTQGD\"\n",
        "VERSION=20200201\n",
        "venues = []\n",
        "\n",
        "for lat, long,city in zip(outlier_removed_df['lat'], outlier_removed_df['long'],\n",
        "                    outlier_removed_df['cities']):\n",
        "    url = \"https://api.foursquare.com/v2/venues/explore?client_id={}&client_secret={}&v={}&ll={},{}&radius={}&limit={}\".format(\n",
        "        CLIENT_ID,\n",
        "        CLIENT_SECRET,\n",
        "        VERSION,\n",
        "        lat,\n",
        "        long,\n",
        "        radius, \n",
        "        LIMIT)\n",
        "    print(url)\n",
        "    \n",
        "    # make the GET request\n",
        "    results = requests.get(url).json()[\"response\"]['groups'][0]['items']\n",
        "    \n",
        "    # return only relevant information for each nearby venue\n",
        "    for venue in results:\n",
        "        venues.append((\n",
        "            city,\n",
        "            lat, \n",
        "            long, \n",
        "            venue['venue']['name'], \n",
        "            venue['venue']['location']['lat'], \n",
        "            venue['venue']['location']['lng'],  \n",
        "            venue['venue']['categories'][0]['name']))"
      ],
      "execution_count": 0,
      "outputs": []
    },
    {
      "cell_type": "code",
      "metadata": {
        "id": "Wimzmt59AmKp",
        "colab_type": "code",
        "colab": {}
      },
      "source": [
        "venues"
      ],
      "execution_count": 0,
      "outputs": []
    },
    {
      "cell_type": "code",
      "metadata": {
        "id": "4MoomlLyCCCD",
        "colab_type": "code",
        "colab": {}
      },
      "source": [
        "venues_df = pd.DataFrame(venues)\n"
      ],
      "execution_count": 0,
      "outputs": []
    },
    {
      "cell_type": "code",
      "metadata": {
        "id": "Ketzj_MGCZ0I",
        "colab_type": "code",
        "colab": {}
      },
      "source": [
        "venues_df.columns=['city','lat','lon','name','loc_lat','loc_long','type']"
      ],
      "execution_count": 0,
      "outputs": []
    },
    {
      "cell_type": "code",
      "metadata": {
        "id": "gT50_0jHCa1t",
        "colab_type": "code",
        "colab": {}
      },
      "source": [
        "venues_df.type.unique()"
      ],
      "execution_count": 0,
      "outputs": []
    },
    {
      "cell_type": "code",
      "metadata": {
        "id": "merD378XDSL8",
        "colab_type": "code",
        "colab": {
          "base_uri": "https://localhost:8080/",
          "height": 34
        },
        "outputId": "86816095-6e4a-4fb2-c1fb-ed94b0c68248"
      },
      "source": [
        "venues_df.shape"
      ],
      "execution_count": 138,
      "outputs": [
        {
          "output_type": "execute_result",
          "data": {
            "text/plain": [
              "(3839, 7)"
            ]
          },
          "metadata": {
            "tags": []
          },
          "execution_count": 138
        }
      ]
    },
    {
      "cell_type": "code",
      "metadata": {
        "id": "O9-KOqn2EoA7",
        "colab_type": "code",
        "colab": {}
      },
      "source": [
        "venues_df.type.unique()"
      ],
      "execution_count": 0,
      "outputs": []
    },
    {
      "cell_type": "markdown",
      "metadata": {
        "id": "URKGm3LbGQiO",
        "colab_type": "text"
      },
      "source": [
        "filtering for station and restaruant and market"
      ]
    },
    {
      "cell_type": "code",
      "metadata": {
        "id": "Oc1wl0RnFYoC",
        "colab_type": "code",
        "colab": {}
      },
      "source": [
        "venues_df_filter=venues_df[venues_df['type'].str.contains('Station|Restaurant|Market')]"
      ],
      "execution_count": 0,
      "outputs": []
    },
    {
      "cell_type": "code",
      "metadata": {
        "id": "QCGB-8czGIOh",
        "colab_type": "code",
        "colab": {
          "base_uri": "https://localhost:8080/",
          "height": 34
        },
        "outputId": "353ef309-457f-4793-ffee-f8dc44ac7633"
      },
      "source": [
        "venues_df_filter.shape ,venues_df.shape"
      ],
      "execution_count": 145,
      "outputs": [
        {
          "output_type": "execute_result",
          "data": {
            "text/plain": [
              "((1580, 7), (3839, 7))"
            ]
          },
          "metadata": {
            "tags": []
          },
          "execution_count": 145
        }
      ]
    },
    {
      "cell_type": "code",
      "metadata": {
        "id": "Y-j9mohqGYhY",
        "colab_type": "code",
        "colab": {}
      },
      "source": [
        "# one hot encoding\n",
        "venues_df_filter_onehot = pd.get_dummies(venues_df_filter[['type']], prefix=\"\", prefix_sep=\"\")\n",
        "\n",
        "venues_df_one_hot_df=pd.concat([venues_df_filter[:-1],venues_df_filter_onehot],axis=1)\n",
        "\n"
      ],
      "execution_count": 0,
      "outputs": []
    },
    {
      "cell_type": "code",
      "metadata": {
        "id": "rv24xj-2Ha6P",
        "colab_type": "code",
        "colab": {}
      },
      "source": [
        "venues_df_group= venues_df_one_hot_df.groupby('city').mean().reset_index()"
      ],
      "execution_count": 0,
      "outputs": []
    },
    {
      "cell_type": "code",
      "metadata": {
        "id": "wrKBUVWDIBQA",
        "colab_type": "code",
        "colab": {
          "base_uri": "https://localhost:8080/",
          "height": 34
        },
        "outputId": "1b8e9872-91e5-4f0b-b505-aa7770074867"
      },
      "source": [
        "venues_df_group.shape"
      ],
      "execution_count": 154,
      "outputs": [
        {
          "output_type": "execute_result",
          "data": {
            "text/plain": [
              "(120, 51)"
            ]
          },
          "metadata": {
            "tags": []
          },
          "execution_count": 154
        }
      ]
    },
    {
      "cell_type": "code",
      "metadata": {
        "id": "KqG9_KOtIYEa",
        "colab_type": "code",
        "colab": {
          "base_uri": "https://localhost:8080/",
          "height": 34
        },
        "outputId": "f543b9db-54a0-477d-d06e-83fc9ed692ce"
      },
      "source": [
        "# set number of clusters\n",
        "kclusters = 3\n",
        "\n",
        "kl_clustering = venues_df_group.drop([\"city\"], 1)\n",
        "\n",
        "# run k-means clustering\n",
        "kmeans = KMeans(n_clusters=kclusters, random_state=0).fit(kl_clustering)\n",
        "\n",
        "# check cluster labels generated for each row in the dataframe\n",
        "kmeans.labels_[0:10]"
      ],
      "execution_count": 157,
      "outputs": [
        {
          "output_type": "execute_result",
          "data": {
            "text/plain": [
              "array([2, 2, 2, 2, 2, 2, 2, 2, 2, 2], dtype=int32)"
            ]
          },
          "metadata": {
            "tags": []
          },
          "execution_count": 157
        }
      ]
    },
    {
      "cell_type": "code",
      "metadata": {
        "id": "sAwP2FPIIm7z",
        "colab_type": "code",
        "colab": {
          "base_uri": "https://localhost:8080/",
          "height": 121
        },
        "outputId": "e11f6d72-72ae-4d81-927f-b33b5cda917d"
      },
      "source": [
        "kmeans.labels_"
      ],
      "execution_count": 160,
      "outputs": [
        {
          "output_type": "execute_result",
          "data": {
            "text/plain": [
              "array([2, 2, 2, 2, 2, 2, 2, 2, 2, 2, 2, 2, 2, 2, 0, 2, 2, 2, 2, 2, 2, 0,\n",
              "       2, 2, 2, 0, 2, 0, 2, 0, 0, 2, 2, 2, 0, 0, 2, 2, 2, 2, 0, 2, 0, 0,\n",
              "       2, 2, 2, 2, 2, 2, 2, 2, 2, 2, 0, 2, 2, 2, 2, 2, 2, 2, 2, 2, 2, 2,\n",
              "       2, 2, 0, 2, 2, 0, 2, 0, 0, 0, 2, 2, 2, 0, 2, 2, 2, 0, 2, 2, 1, 0,\n",
              "       2, 0, 2, 2, 2, 2, 2, 2, 2, 2, 2, 2, 2, 2, 0, 1, 0, 2, 2, 2, 2, 2,\n",
              "       2, 2, 2, 2, 2, 0, 2, 2, 0, 2], dtype=int32)"
            ]
          },
          "metadata": {
            "tags": []
          },
          "execution_count": 160
        }
      ]
    },
    {
      "cell_type": "code",
      "metadata": {
        "id": "96b0-q2jIvcj",
        "colab_type": "code",
        "colab": {}
      },
      "source": [
        "venues_df_group['cluster']=kmeans.labels_"
      ],
      "execution_count": 0,
      "outputs": []
    },
    {
      "cell_type": "code",
      "metadata": {
        "id": "d4ZV9ffSJIKE",
        "colab_type": "code",
        "colab": {
          "base_uri": "https://localhost:8080/",
          "height": 293
        },
        "outputId": "635fc8b6-d528-4487-c4c2-cd6b65576f12"
      },
      "source": [
        "venues_df_group.groupby('cluster').count()['city'].plot(kind='bar')"
      ],
      "execution_count": 168,
      "outputs": [
        {
          "output_type": "execute_result",
          "data": {
            "text/plain": [
              "<matplotlib.axes._subplots.AxesSubplot at 0x7f82ec36a518>"
            ]
          },
          "metadata": {
            "tags": []
          },
          "execution_count": 168
        },
        {
          "output_type": "display_data",
          "data": {
            "image/png": "[encoded data removed]",
            "text/plain": [
              "<Figure size 432x288 with 1 Axes>"
            ]
          },
          "metadata": {
            "tags": []
          }
        }
      ]
    },
    {
      "cell_type": "code",
      "metadata": {
        "id": "bnpXHb3_JN74",
        "colab_type": "code",
        "colab": {
          "base_uri": "https://localhost:8080/",
          "height": 167
        },
        "outputId": "ef9cf0ca-cf86-4b45-d92f-45c88d8b5b77"
      },
      "source": [
        "venues_df_group[venues_df_group['cluster']==1]"
      ],
      "execution_count": 171,
      "outputs": [
        {
          "output_type": "execute_result",
          "data": {
            "text/html": [
              "<div>\n",
              "<style scoped>\n",
              "    .dataframe tbody tr th:only-of-type {\n",
              "        vertical-align: middle;\n",
              "    }\n",
              "\n",
              "    .dataframe tbody tr th {\n",
              "        vertical-align: top;\n",
              "    }\n",
              "\n",
              "    .dataframe thead th {\n",
              "        text-align: right;\n",
              "    }\n",
              "</style>\n",
              "<table border=\"1\" class=\"dataframe\">\n",
              "  <thead>\n",
              "    <tr style=\"text-align: right;\">\n",
              "      <th></th>\n",
              "      <th>city</th>\n",
              "      <th>lat</th>\n",
              "      <th>lon</th>\n",
              "      <th>loc_lat</th>\n",
              "      <th>loc_long</th>\n",
              "      <th>Afghan Restaurant</th>\n",
              "      <th>African Restaurant</th>\n",
              "      <th>American Restaurant</th>\n",
              "      <th>Andhra Restaurant</th>\n",
              "      <th>Asian Restaurant</th>\n",
              "      <th>Bengali Restaurant</th>\n",
              "      <th>Burmese Restaurant</th>\n",
              "      <th>Bus Station</th>\n",
              "      <th>Chettinad Restaurant</th>\n",
              "      <th>Chinese Restaurant</th>\n",
              "      <th>Comfort Food Restaurant</th>\n",
              "      <th>Farmers Market</th>\n",
              "      <th>Fast Food Restaurant</th>\n",
              "      <th>Fish Market</th>\n",
              "      <th>Flea Market</th>\n",
              "      <th>Gas Station</th>\n",
              "      <th>Halal Restaurant</th>\n",
              "      <th>Hyderabadi Restaurant</th>\n",
              "      <th>Indian Restaurant</th>\n",
              "      <th>Italian Restaurant</th>\n",
              "      <th>Japanese Curry Restaurant</th>\n",
              "      <th>Japanese Restaurant</th>\n",
              "      <th>Kebab Restaurant</th>\n",
              "      <th>Kerala Restaurant</th>\n",
              "      <th>Korean Restaurant</th>\n",
              "      <th>Light Rail Station</th>\n",
              "      <th>Malay Restaurant</th>\n",
              "      <th>Market</th>\n",
              "      <th>Mediterranean Restaurant</th>\n",
              "      <th>Metro Station</th>\n",
              "      <th>Mexican Restaurant</th>\n",
              "      <th>Middle Eastern Restaurant</th>\n",
              "      <th>Modern European Restaurant</th>\n",
              "      <th>Molecular Gastronomy Restaurant</th>\n",
              "      <th>Multicuisine Indian Restaurant</th>\n",
              "      <th>New American Restaurant</th>\n",
              "      <th>North Indian Restaurant</th>\n",
              "      <th>Punjabi Restaurant</th>\n",
              "      <th>Rajasthani Restaurant</th>\n",
              "      <th>Restaurant</th>\n",
              "      <th>Seafood Restaurant</th>\n",
              "      <th>South Indian Restaurant</th>\n",
              "      <th>Thai Restaurant</th>\n",
              "      <th>Theme Restaurant</th>\n",
              "      <th>Train Station</th>\n",
              "      <th>Vegetarian / Vegan Restaurant</th>\n",
              "      <th>cluster</th>\n",
              "    </tr>\n",
              "  </thead>\n",
              "  <tbody>\n",
              "    <tr>\n",
              "      <th>86</th>\n",
              "      <td>Shenoy</td>\n",
              "      <td>12.930837</td>\n",
              "      <td>77.584122</td>\n",
              "      <td>12.926998</td>\n",
              "      <td>77.583580</td>\n",
              "      <td>0.0</td>\n",
              "      <td>0.0</td>\n",
              "      <td>0.0</td>\n",
              "      <td>0.022222</td>\n",
              "      <td>0.022222</td>\n",
              "      <td>0.0</td>\n",
              "      <td>0.0</td>\n",
              "      <td>0.0</td>\n",
              "      <td>0.0</td>\n",
              "      <td>0.111111</td>\n",
              "      <td>0.0</td>\n",
              "      <td>0.0</td>\n",
              "      <td>0.088889</td>\n",
              "      <td>0.0</td>\n",
              "      <td>0.0</td>\n",
              "      <td>0.0</td>\n",
              "      <td>0.0</td>\n",
              "      <td>0.0</td>\n",
              "      <td>0.511111</td>\n",
              "      <td>0.044444</td>\n",
              "      <td>0.0</td>\n",
              "      <td>0.0</td>\n",
              "      <td>0.0</td>\n",
              "      <td>0.0</td>\n",
              "      <td>0.0</td>\n",
              "      <td>0.0</td>\n",
              "      <td>0.0</td>\n",
              "      <td>0.0</td>\n",
              "      <td>0.0</td>\n",
              "      <td>0.000000</td>\n",
              "      <td>0.022222</td>\n",
              "      <td>0.022222</td>\n",
              "      <td>0.0</td>\n",
              "      <td>0.0</td>\n",
              "      <td>0.0</td>\n",
              "      <td>0.0</td>\n",
              "      <td>0.0</td>\n",
              "      <td>0.0</td>\n",
              "      <td>0.022222</td>\n",
              "      <td>0.066667</td>\n",
              "      <td>0.0</td>\n",
              "      <td>0.066667</td>\n",
              "      <td>0.0</td>\n",
              "      <td>0.0</td>\n",
              "      <td>0.0</td>\n",
              "      <td>0.0</td>\n",
              "      <td>1</td>\n",
              "    </tr>\n",
              "    <tr>\n",
              "      <th>103</th>\n",
              "      <td>Tolgate</td>\n",
              "      <td>12.978422</td>\n",
              "      <td>77.548794</td>\n",
              "      <td>12.980337</td>\n",
              "      <td>77.544139</td>\n",
              "      <td>0.0</td>\n",
              "      <td>0.0</td>\n",
              "      <td>0.0</td>\n",
              "      <td>0.000000</td>\n",
              "      <td>0.052632</td>\n",
              "      <td>0.0</td>\n",
              "      <td>0.0</td>\n",
              "      <td>0.0</td>\n",
              "      <td>0.0</td>\n",
              "      <td>0.000000</td>\n",
              "      <td>0.0</td>\n",
              "      <td>0.0</td>\n",
              "      <td>0.263158</td>\n",
              "      <td>0.0</td>\n",
              "      <td>0.0</td>\n",
              "      <td>0.0</td>\n",
              "      <td>0.0</td>\n",
              "      <td>0.0</td>\n",
              "      <td>0.578947</td>\n",
              "      <td>0.000000</td>\n",
              "      <td>0.0</td>\n",
              "      <td>0.0</td>\n",
              "      <td>0.0</td>\n",
              "      <td>0.0</td>\n",
              "      <td>0.0</td>\n",
              "      <td>0.0</td>\n",
              "      <td>0.0</td>\n",
              "      <td>0.0</td>\n",
              "      <td>0.0</td>\n",
              "      <td>0.052632</td>\n",
              "      <td>0.000000</td>\n",
              "      <td>0.000000</td>\n",
              "      <td>0.0</td>\n",
              "      <td>0.0</td>\n",
              "      <td>0.0</td>\n",
              "      <td>0.0</td>\n",
              "      <td>0.0</td>\n",
              "      <td>0.0</td>\n",
              "      <td>0.000000</td>\n",
              "      <td>0.052632</td>\n",
              "      <td>0.0</td>\n",
              "      <td>0.000000</td>\n",
              "      <td>0.0</td>\n",
              "      <td>0.0</td>\n",
              "      <td>0.0</td>\n",
              "      <td>0.0</td>\n",
              "      <td>1</td>\n",
              "    </tr>\n",
              "  </tbody>\n",
              "</table>\n",
              "</div>"
            ],
            "text/plain": [
              "        city        lat        lon    loc_lat   loc_long  Afghan Restaurant  \\\n",
              "86    Shenoy  12.930837  77.584122  12.926998  77.583580                0.0   \n",
              "103  Tolgate  12.978422  77.548794  12.980337  77.544139                0.0   \n",
              "\n",
              "     African Restaurant  American Restaurant  Andhra Restaurant  \\\n",
              "86                  0.0                  0.0           0.022222   \n",
              "103                 0.0                  0.0           0.000000   \n",
              "\n",
              "     Asian Restaurant  Bengali Restaurant  Burmese Restaurant  Bus Station  \\\n",
              "86           0.022222                 0.0                 0.0          0.0   \n",
              "103          0.052632                 0.0                 0.0          0.0   \n",
              "\n",
              "     Chettinad Restaurant  Chinese Restaurant  Comfort Food Restaurant  \\\n",
              "86                    0.0            0.111111                      0.0   \n",
              "103                   0.0            0.000000                      0.0   \n",
              "\n",
              "     Farmers Market  Fast Food Restaurant  Fish Market  Flea Market  \\\n",
              "86              0.0              0.088889          0.0          0.0   \n",
              "103             0.0              0.263158          0.0          0.0   \n",
              "\n",
              "     Gas Station  Halal Restaurant  Hyderabadi Restaurant  Indian Restaurant  \\\n",
              "86           0.0               0.0                    0.0           0.511111   \n",
              "103          0.0               0.0                    0.0           0.578947   \n",
              "\n",
              "     Italian Restaurant  Japanese Curry Restaurant  Japanese Restaurant  \\\n",
              "86             0.044444                        0.0                  0.0   \n",
              "103            0.000000                        0.0                  0.0   \n",
              "\n",
              "     Kebab Restaurant  Kerala Restaurant  Korean Restaurant  \\\n",
              "86                0.0                0.0                0.0   \n",
              "103               0.0                0.0                0.0   \n",
              "\n",
              "     Light Rail Station  Malay Restaurant  Market  Mediterranean Restaurant  \\\n",
              "86                  0.0               0.0     0.0                       0.0   \n",
              "103                 0.0               0.0     0.0                       0.0   \n",
              "\n",
              "     Metro Station  Mexican Restaurant  Middle Eastern Restaurant  \\\n",
              "86        0.000000            0.022222                   0.022222   \n",
              "103       0.052632            0.000000                   0.000000   \n",
              "\n",
              "     Modern European Restaurant  Molecular Gastronomy Restaurant  \\\n",
              "86                          0.0                              0.0   \n",
              "103                         0.0                              0.0   \n",
              "\n",
              "     Multicuisine Indian Restaurant  New American Restaurant  \\\n",
              "86                              0.0                      0.0   \n",
              "103                             0.0                      0.0   \n",
              "\n",
              "     North Indian Restaurant  Punjabi Restaurant  Rajasthani Restaurant  \\\n",
              "86                       0.0                 0.0               0.022222   \n",
              "103                      0.0                 0.0               0.000000   \n",
              "\n",
              "     Restaurant  Seafood Restaurant  South Indian Restaurant  Thai Restaurant  \\\n",
              "86     0.066667                 0.0                 0.066667              0.0   \n",
              "103    0.052632                 0.0                 0.000000              0.0   \n",
              "\n",
              "     Theme Restaurant  Train Station  Vegetarian / Vegan Restaurant  cluster  \n",
              "86                0.0            0.0                            0.0        1  \n",
              "103               0.0            0.0                            0.0        1  "
            ]
          },
          "metadata": {
            "tags": []
          },
          "execution_count": 171
        }
      ]
    },
    {
      "cell_type": "code",
      "metadata": {
        "id": "B1f3WDAnJu-7",
        "colab_type": "code",
        "colab": {}
      },
      "source": [
        ""
      ],
      "execution_count": 0,
      "outputs": []
    }
  ]
}